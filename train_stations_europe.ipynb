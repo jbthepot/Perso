{
 "cells": [
  {
   "cell_type": "code",
   "execution_count": 32,
   "metadata": {},
   "outputs": [],
   "source": [
    "#Trian stations\n",
    "\n",
    "import pandas as pd\n",
    "import matplotlib.pyplot as plt\n",
    "\n",
    "gares = pd.read_csv(\"train_stations_europe.csv\")\n",
    "\n",
    "#Gares de France\n",
    "\n",
    "def affichage_gares_france():\n",
    "    gares_france= gares[gares[\"country\"]=='FR']\n",
    "\n",
    "    gares_france_latitude =gares_france[\"latitude\"]\n",
    "    gares_france_longitude = gares_france[\"longitude\"]\n",
    "\n",
    "    plt.scatter(gares_france_longitude,gares_france_latitude, color=\"red\")\n",
    "    plt.show()\n",
    "    return()\n",
    "\n",
    "#Gares de UK\n",
    "\n",
    "\n",
    "def affichage_gares_europe():\n",
    "    \n",
    "    gares_latitude =gares[\"latitude\"]\n",
    "    gares_longitude = gares[\"longitude\"]\n",
    "\n",
    "    plt.scatter(gares_longitude,gares_latitude, color=\"green\")\n",
    "    plt.show()\n",
    "    return()\n"
   ]
  },
  {
   "cell_type": "code",
   "execution_count": 33,
   "metadata": {},
   "outputs": [
    {
     "ename": "NameError",
     "evalue": "name 'affichage_gares_france' is not defined",
     "output_type": "error",
     "traceback": [
      "\u001b[1;31m---------------------------------------------------------------------------\u001b[0m",
      "\u001b[1;31mNameError\u001b[0m                                 Traceback (most recent call last)",
      "\u001b[1;32m~\\AppData\\Local\\Temp/ipykernel_3488/1818462399.py\u001b[0m in \u001b[0;36m<module>\u001b[1;34m\u001b[0m\n\u001b[1;32m----> 1\u001b[1;33m \u001b[0maffichage_gares_france\u001b[0m\u001b[1;33m(\u001b[0m\u001b[1;33m)\u001b[0m\u001b[1;33m\u001b[0m\u001b[1;33m\u001b[0m\u001b[0m\n\u001b[0m",
      "\u001b[1;31mNameError\u001b[0m: name 'affichage_gares_france' is not defined"
     ]
    }
   ],
   "source": [
    "affichage_gares_france()"
   ]
  }
 ],
 "metadata": {
  "kernelspec": {
   "display_name": "Python 3.9.7 ('base')",
   "language": "python",
   "name": "python3"
  },
  "language_info": {
   "codemirror_mode": {
    "name": "ipython",
    "version": 3
   },
   "file_extension": ".py",
   "mimetype": "text/x-python",
   "name": "python",
   "nbconvert_exporter": "python",
   "pygments_lexer": "ipython3",
   "version": "3.9.7"
  },
  "orig_nbformat": 4,
  "vscode": {
   "interpreter": {
    "hash": "6fc0abf1c8f97484722818a8d78c72e453033bfadc741d4a2b90bcbb5957298d"
   }
  }
 },
 "nbformat": 4,
 "nbformat_minor": 2
}
